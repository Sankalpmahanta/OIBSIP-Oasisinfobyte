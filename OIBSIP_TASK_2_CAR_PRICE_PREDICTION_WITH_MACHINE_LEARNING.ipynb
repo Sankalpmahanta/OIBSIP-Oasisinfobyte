{
  "nbformat": 4,
  "nbformat_minor": 0,
  "metadata": {
    "colab": {
      "provenance": [],
      "authorship_tag": "ABX9TyMwp5MuqQ2Cb8xM8tX1A4p3",
      "include_colab_link": true
    },
    "kernelspec": {
      "name": "python3",
      "display_name": "Python 3"
    },
    "language_info": {
      "name": "python"
    }
  },
  "cells": [
    {
      "cell_type": "markdown",
      "metadata": {
        "id": "view-in-github",
        "colab_type": "text"
      },
      "source": [
        "<a href=\"https://colab.research.google.com/github/Sankalpmahanta/OIBSIP-Oasisinfobyte/blob/main/OIBSIP_TASK_2_CAR_PRICE_PREDICTION_WITH_MACHINE_LEARNING.ipynb\" target=\"_parent\"><img src=\"https://colab.research.google.com/assets/colab-badge.svg\" alt=\"Open In Colab\"/></a>"
      ]
    },
    {
      "cell_type": "code",
      "execution_count": null,
      "metadata": {
        "id": "iyNrdqr0HQX6"
      },
      "outputs": [],
      "source": []
    }
  ]
}