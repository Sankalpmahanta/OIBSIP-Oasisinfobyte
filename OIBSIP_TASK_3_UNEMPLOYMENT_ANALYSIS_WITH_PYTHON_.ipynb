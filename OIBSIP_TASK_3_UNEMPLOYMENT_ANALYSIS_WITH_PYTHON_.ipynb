{
  "nbformat": 4,
  "nbformat_minor": 0,
  "metadata": {
    "colab": {
      "provenance": [],
      "authorship_tag": "ABX9TyMwp5MuqQ2Cb8xM8tX1A4p3",
      "include_colab_link": true
    },
    "kernelspec": {
      "name": "python3",
      "display_name": "Python 3"
    },
    "language_info": {
      "name": "python"
    }
  },
  "cells": [
    {
      "cell_type": "markdown",
      "metadata": {
        "id": "view-in-github",
        "colab_type": "text"
      },
      "source": [
        "<a href=\"https://colab.research.google.com/github/Sankalpmahanta/OIBSIP-Oasisinfobyte/blob/main/OIBSIP_TASK_3_UNEMPLOYMENT_ANALYSIS_WITH_PYTHON_.ipynb\" target=\"_parent\"><img src=\"https://colab.research.google.com/assets/colab-badge.svg\" alt=\"Open In Colab\"/></a>"
      ]
    },
    {
      "cell_type": "code",
      "execution_count": null,
      "metadata": {
        "id": "VtdhG21LRiQG"
      },
      "outputs": [],
      "source": []
    }
  ]
}